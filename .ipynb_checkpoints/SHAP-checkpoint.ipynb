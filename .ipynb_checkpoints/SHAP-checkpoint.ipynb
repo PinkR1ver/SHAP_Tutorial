{
 "cells": [
  {
   "cell_type": "code",
   "execution_count": 1,
   "metadata": {},
   "outputs": [],
   "source": [
    "import numpy as np\n",
    "import pandas as pd\n",
    "import os\n",
    "from sklearn.linear_model import LinearRegression\n",
    "from itertools import combinations"
   ]
  },
  {
   "cell_type": "code",
   "execution_count": 2,
   "metadata": {},
   "outputs": [],
   "source": [
    "column_names = ['CRIM', 'ZN', 'INDUS', 'CHAS', 'NOX', 'RM', 'AGE', 'DIS', 'RAD', 'TAX', 'PTRATIO', 'B', 'LSTAT', 'MEDV']\n",
    "data_df=pd.read_csv('./housing.csv', header=None, delim_whitespace=True, names=column_names) #, delimiter=r\"\\s+\")"
   ]
  },
  {
   "cell_type": "markdown",
   "metadata": {},
   "source": [
    "* CRIM - per capita crime rate by town\n",
    "* ZN - proportion of residential land zoned for lots over 25,000 sq.ft.\n",
    "* INDUS - proportion of non-retail business acres per town.\n",
    "* CHAS - Charles River dummy variable (1 if tract bounds river; 0 otherwise)\n",
    "* NOX - nitric oxides concentration (parts per 10 million)\n",
    "* RM - average number of rooms per dwelling\n",
    "* AGE - proportion of owner-occupied units built prior to 1940\n",
    "* DIS - weighted distances to five Boston employment centres\n",
    "* RAD - index of accessibility to radial highways\n",
    "* TAX - full-value property-tax rate per $10,000\n",
    "* PTRATIO - pupil-teacher ratio by town\n",
    "* B - 1000(Bk - 0.63)^2 where Bk is the proportion of blacks by town\n",
    "* LSTAT - % lower status of the population\n",
    "* MEDV - Median value of owner-occupied homes in $1000's"
   ]
  },
  {
   "cell_type": "code",
   "execution_count": null,
   "metadata": {},
   "outputs": [],
   "source": [
    "data_df.head()"
   ]
  },
  {
   "cell_type": "code",
   "execution_count": null,
   "metadata": {},
   "outputs": [],
   "source": [
    "data_df.describe()"
   ]
  },
  {
   "cell_type": "code",
   "execution_count": null,
   "metadata": {},
   "outputs": [],
   "source": [
    "X = data_df.drop('MEDV', axis=1)\n",
    "X"
   ]
  },
  {
   "cell_type": "code",
   "execution_count": null,
   "metadata": {},
   "outputs": [],
   "source": [
    "y = data_df['MEDV']\n",
    "y"
   ]
  },
  {
   "cell_type": "code",
   "execution_count": null,
   "metadata": {},
   "outputs": [],
   "source": [
    "def find_pair(features, objective):\n",
    "    C = []\n",
    "    features.remove(objective)\n",
    "    for i in range(len(features)):\n",
    "        C.append(list(combinations(features, i)))\n",
    "\n",
    "    excluded = C\n",
    "\n",
    "    return excluded"
   ]
  },
  {
   "cell_type": "code",
   "execution_count": null,
   "metadata": {},
   "outputs": [],
   "source": [
    "features = column_names[:-1]\n",
    "for feature in features:\n",
    "    excludeds = find_pair(column_names[:-1], feature)\n",
    "\n",
    "    difference = np.zeros(y.size)\n",
    "    count = 0\n",
    "\n",
    "    for i in excludeds:\n",
    "        for excluded in i:\n",
    "            if excluded == ():\n",
    "                y_pred_excluded = np.empty(y.size)\n",
    "                y_pred_excluded.fill(np.average(y))\n",
    "            else:\n",
    "                X_tmp = X[X.columns.intersection(list(excluded))]\n",
    "                model_excluded = LinearRegression().fit(X_tmp, y)\n",
    "                y_pred_excluded = model_excluded.predict(X_tmp)\n",
    "\n",
    "            included = list(excluded)\n",
    "            included.append(feature)\n",
    "\n",
    "            X_tmp = X[X.columns.intersection(included)]\n",
    "            model_included = LinearRegression().fit(X_tmp, y)\n",
    "            y_pred_included = model_included.predict(X_tmp)\n",
    "\n",
    "            diff = y_pred_included - y_pred_excluded\n",
    "            difference = np.add(difference, diff)\n",
    "            count += 1\n",
    "\n",
    "    average_diff = np.divide(difference, count)\n",
    "    d = {feature: X[feature], 'Shapley Values': average_diff}\n",
    "    df = pd.DataFrame(data=d)\n",
    "    df.to_csv(f'./{feature}_SHAP.csv', index=False)\n",
    "            \n"
   ]
  },
  {
   "cell_type": "code",
   "execution_count": null,
   "metadata": {},
   "outputs": [],
   "source": [
    "d = {'feature': [], 'feature_value': [], 'shapley_value': []}\n",
    "summary_df = pd.DataFrame(data=d)\n",
    "\n",
    "for root, dirs, files in os.walk('.'):\n",
    "    for file in files:\n",
    "        if '.csv' in file and 'housing' not in file and 'summary' not in file:\n",
    "            df = pd.read_csv(os.path.join(root, file))\n",
    "            feature = [df.columns[0]] * len(df)\n",
    "            feature_value = df[df.columns[0]]\n",
    "            shapley_value = df[df.columns[1]]\n",
    "            \n",
    "            d = {'feature': feature, 'feature_value': feature_value, 'shapley_value': shapley_value}\n",
    "            summary_df_part = pd.DataFrame(data=d)\n",
    "            summary_df = pd.concat([summary_df, summary_df_part])\n",
    "\n",
    "summary_df.to_csv('./summary_SHAP.csv', index=False)"
   ]
  },
  {
   "cell_type": "code",
   "execution_count": null,
   "metadata": {},
   "outputs": [],
   "source": [
    "summary_df = pd.read_csv('./summary_SHAP.csv')\n",
    "summary_df.head()"
   ]
  },
  {
   "cell_type": "code",
   "execution_count": null,
   "metadata": {},
   "outputs": [],
   "source": [
    "sns.swarmplot(data=summary_df, x='shapley_value', y='feature', hue='feature_value', size=0.3)\n",
    "plt.show()"
   ]
  },
  {
   "cell_type": "code",
   "execution_count": null,
   "metadata": {},
   "outputs": [],
   "source": [
    "interest = 'RAD'\n",
    "\n",
    "example = pd.read_csv(f'./{interest}_SHAP.csv')\n",
    "example.head()\n",
    "\n",
    "plt.scatter(example[interest], example['Shapley Values'], alpha=0.5)\n",
    "plt.show()\n",
    "\n",
    "sns.swarmplot(data=example, x='Shapley Values', hue=interest)\n",
    "plt.ylabel(interest)\n",
    "plt.show()"
   ]
  },
  {
   "cell_type": "markdown",
   "metadata": {},
   "source": [
    "Use SHAP explainer"
   ]
  },
  {
   "cell_type": "code",
   "execution_count": null,
   "metadata": {},
   "outputs": [],
   "source": [
    "import shap\n",
    "\n",
    "model = LinearRegression().fit(X, y)\n",
    "\n",
    "explainer = shap.Explainer(model.predict, X)\n",
    "shap_values = explainer(X)\n",
    "\n",
    "shap.summary_plot(shap_values)\n",
    "shap.plots.bar(shap_values)"
   ]
  },
  {
   "cell_type": "code",
   "execution_count": null,
   "metadata": {},
   "outputs": [],
   "source": [
    "explainer = shap.Explainer(model.predict, X.iloc[30:100])\n",
    "shap_values = explainer(X)\n",
    "\n",
    "shap.summary_plot(shap_values)\n",
    "shap.plots.bar(shap_values)"
   ]
  },
  {
   "cell_type": "code",
   "execution_count": null,
   "metadata": {},
   "outputs": [],
   "source": [
    "explainer = shap.Explainer(model.predict, masker=None)\n",
    "shap_values = explainer(X)\n",
    "\n",
    "shap.summary_plot(shap_values)\n",
    "shap.plots.bar(shap_values)"
   ]
  }
 ],
 "metadata": {
  "kernelspec": {
   "display_name": "Python 3",
   "language": "python",
   "name": "python3"
  },
  "language_info": {
   "codemirror_mode": {
    "name": "ipython",
    "version": 3
   },
   "file_extension": ".py",
   "mimetype": "text/x-python",
   "name": "python",
   "nbconvert_exporter": "python",
   "pygments_lexer": "ipython3",
   "version": "3.8.8"
  },
  "vscode": {
   "interpreter": {
    "hash": "73fb53996a1ff2e8bb6f30a1e4a6eef6e20d2ad020f729eeeec2e043b647a2ac"
   }
  }
 },
 "nbformat": 4,
 "nbformat_minor": 2
}
